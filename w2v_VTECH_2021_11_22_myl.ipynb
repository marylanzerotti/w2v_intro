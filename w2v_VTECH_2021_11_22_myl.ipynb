{
  "nbformat": 4,
  "nbformat_minor": 0,
  "metadata": {
    "colab": {
      "name": "w2v_VTECH_2021_11_22-myl.ipynb",
      "provenance": [],
      "include_colab_link": true
    },
    "kernelspec": {
      "display_name": "Python 3",
      "language": "python",
      "name": "python3"
    },
    "language_info": {
      "codemirror_mode": {
        "name": "ipython",
        "version": 3
      },
      "file_extension": ".py",
      "mimetype": "text/x-python",
      "name": "python",
      "nbconvert_exporter": "python",
      "pygments_lexer": "ipython3",
      "version": "3.7.4"
    }
  },
  "cells": [
    {
      "cell_type": "markdown",
      "metadata": {
        "id": "view-in-github",
        "colab_type": "text"
      },
      "source": [
        "<a href=\"https://colab.research.google.com/github/marylanzerotti/w2v_intro/blob/main/w2v_VTECH_2021_11_22_myl.ipynb\" target=\"_parent\"><img src=\"https://colab.research.google.com/assets/colab-badge.svg\" alt=\"Open In Colab\"/></a>"
      ]
    },
    {
      "cell_type": "code",
      "metadata": {
        "id": "9OruIBxDOtwS",
        "colab": {
          "base_uri": "https://localhost:8080/",
          "height": 153
        },
        "outputId": "3dcb3993-3442-433f-bfb4-095e73c2e21c"
      },
      "source": [
        "# w2v_VTECH_2021_11_15.ipynb\n",
        "# \n",
        "# w2v_skpgr_noW1_v2ru_20211004 2021.10.04 Russian v2\n",
        "# w2v_skpgr_noW1_v6.ipynb2021.08.19\n",
        "import numpy as np\n",
        "import pandas as pd\n",
        "import torch\n",
        "import torch.nn.functional as F\n",
        "import matplotlib\n",
        "import matplotlib.pyplot as plt\n",
        "import time\n",
        "\n",
        "\n",
        "import sys\n",
        "print('sys.executable = ',sys.executable)\n",
        "print('sys.version = ', sys.version)\n",
        "print('sys.version_info = ', sys.version_info)\n",
        "\n",
        "print('np.__version__ = ',np.__version__)\n",
        "print('pd.__version__ = ',pd.__version__)\n",
        "print('torch.__version__ = ',torch.__version__)\n",
        "print('matplotlib.__version__ = ',matplotlib.__version__)\n",
        "\n",
        "# '''\n",
        "# np.__version__ =  1.18.5\n",
        "# pd.__version__ =  1.0.5\n",
        "# torch.__version__ =  1.4.0\n",
        "# matplotlib.__version__ =  3.2.2\n",
        "#'''\n",
        "\n",
        "from IPython.core.display import display, HTML\n",
        "display(HTML(\"<style>.container { width:100% !important; }</style>\"))"
      ],
      "execution_count": null,
      "outputs": [
        {
          "output_type": "stream",
          "name": "stdout",
          "text": [
            "sys.executable =  /usr/bin/python3\n",
            "sys.version =  3.7.12 (default, Sep 10 2021, 00:21:48) \n",
            "[GCC 7.5.0]\n",
            "sys.version_info =  sys.version_info(major=3, minor=7, micro=12, releaselevel='final', serial=0)\n",
            "np.__version__ =  1.19.5\n",
            "pd.__version__ =  1.1.5\n",
            "torch.__version__ =  1.10.0+cu111\n",
            "matplotlib.__version__ =  3.2.2\n"
          ]
        },
        {
          "output_type": "display_data",
          "data": {
            "text/html": [
              "<style>.container { width:100% !important; }</style>"
            ],
            "text/plain": [
              "<IPython.core.display.HTML object>"
            ]
          },
          "metadata": {}
        }
      ]
    },
    {
      "cell_type": "code",
      "metadata": {
        "id": "Hc-iyJ7kftQu"
      },
      "source": [
        ""
      ],
      "execution_count": null,
      "outputs": []
    },
    {
      "cell_type": "markdown",
      "metadata": {
        "id": "uKJqGRwvOtwd"
      },
      "source": [
        "# Introduction to Skip-gram\n",
        "\n",
        "### Skip-gram Algorithm was introduced in [1] and improved in [2]\n",
        "* [1] [Mikolov et al, 2013.09](https://arxiv.org/pdf/1301.3781.pdf)\n",
        "* [2] [Mikolov et al, 2013.10](https://arxiv.org/pdf/1310.4546.pdf)\n",
        "\n",
        "Formulation of optimization problem for the **baseline algorithm** described in section 2 of [2] is as follows.\n",
        "\n",
        "### Notation \n",
        "\n",
        "Given text with vocabulary, $V$, of size $|V|$, window size $c$ ($c=2$ in our example below), and embedding space dimention (2 in our example) we construct a set  training word pairs $(w_{center}, w_{context})$.\n",
        "\n",
        "$idx(w) := $  index of word $w$ in the $V$.\n",
        "\n",
        "$W_0$ is a $|V| \\times 2$ matrix. Rows are embeddings of center words.\n",
        "\n",
        "$W_1$ is a $2 \\times |V|$ matrix. Columns are embeddings of context words.\n",
        "\n",
        "$x:=W_0[idx(w_{center}),:]$ is a 2D row-vector = embedding of $w_{center}$ (also denoted as $w_x$).\n",
        "\n",
        "\n",
        "\n",
        "$y':=W_1[:,idx(w_{context})]$ is a 2D column-vector =  embedding of $w_{context}=w_y$.\n",
        "\n",
        "\n",
        "$x\\cdot W_1$ is a row-vector of length $|V|$. Each entry is a dot product $x\\cdot y_v'$ for some $y_v'$.\n",
        "\n",
        "\n",
        "\n",
        "\n",
        "\n",
        "\n",
        "### Skip-Gram Model\n",
        "\n",
        "$$P(w_{context} | w_{center}) = P(w_y|w_x) := \\frac{\\exp(x\\cdot y')}{\\sum_{v=1}^{|V|}\\exp(x\\cdot y'_v)}\n",
        "$$\n",
        "\n",
        "$$\n",
        "U(W_0, W_1)  := \\frac{1}{T} \\sum_{t=1}^T \\sum_{-c\\le j \\le c, j\\ne 0} \\log P(y_{t+j}|x_t) \n",
        "$$\n",
        "\n",
        "Given a sequence of training words $w_1, w_2, w_3, \\dots , w_T$ , the objective of the Skip-gram model is to maximize $U(W_0, W_1)$:\n",
        "$$\\max_{W_0, W_1} U(W_0, W_1)  $$\n",
        "\n",
        "---\n",
        "\n",
        "### Note: \n",
        "\n",
        "Often the following question is being asked: is it necessary to have two weight matrices $W_0$ and $W_1$? It turns out, that  one matrix is sufficient as we illustrate in our example below. Therefore, the code below is an implementation of \n",
        "\n",
        "### Simplified Skip-Gram Model (with only one weight matrix)\n",
        "\n",
        "Let $\\displaystyle  W_1:=W_0'$, $\\quad T=$  the size of the set of training word pairs,  and \n",
        "\n",
        "$$U=U(W_0)  := \\frac{1}{T} \\sum_{t=1}^T \\log P(y_t|x_t)$$\n",
        "\n",
        "Then the objective is  to maximize $U(W_0)$.\n",
        "\n",
        "\n",
        "\n",
        "\n"
      ]
    },
    {
      "cell_type": "markdown",
      "metadata": {
        "id": "y1M6A60wOtwg"
      },
      "source": [
        "# Auxilary Functions"
      ]
    },
    {
      "cell_type": "code",
      "metadata": {
        "id": "0QxFRkEnOtwj"
      },
      "source": [
        "def remove_stop_words(corpus):\n",
        "    stop_words = ['in','very','are','the','to','of','is', 'a', 'and',\\\n",
        "                  'on','will', 'be', 'и', 'он', 'этот', 'она', 'очень', 'в', 'она']\n",
        "    results = []\n",
        "    for text in corpus:\n",
        "        tmp = text.split(' ')\n",
        "        for stop_word in stop_words:\n",
        "            if stop_word in tmp:\n",
        "                tmp.remove(stop_word)\n",
        "        results.append(\" \".join(tmp))\n",
        "    return results\n",
        "\n",
        "\n",
        "\n",
        "def plot_words(W, vocab, ttl, wcolor):\n",
        "    # plot words according to their embedding\n",
        "    x1 = W[:,0]\n",
        "    x2 = W[:,1]\n",
        "    x_axis_min, x_axis_max = np.min(x1)-get_padding(x1), np.max(x1)+get_padding(x1)\n",
        "    y_axis_min, y_axis_max = np.min(x2)-get_padding(x2), np.max(x2)+get_padding(x2)\n",
        "\n",
        "    fig, ax = plt.subplots()\n",
        "    figsz=4\n",
        "    plt.rcParams[\"figure.figsize\"] = (figsz,figsz)\n",
        "\n",
        "    plt.scatter(x1, x2, c='orange', s=500, alpha=1.0)\n",
        "    for ix, word, x1i, x2i in zip(range(len(wcolor)), vocab, x1, x2):\n",
        "        ax.annotate(word, (x1i,x2i ), fontsize=18, color=wcolor[ix])\n",
        "\n",
        "    # Plot Center\n",
        "    plt.scatter([0], [0], c='g', marker='+', s=500, alpha=0.9)     \n",
        "    plt.grid()\n",
        "    plt.xlim(x_axis_min,x_axis_max)\n",
        "    plt.ylim(y_axis_min,y_axis_max)\n",
        "    \n",
        "    # We change the fontsize of minor ticks label \n",
        "    ax.tick_params(axis='both', which='major', labelsize=20)\n",
        "    ax.tick_params(axis='both', which='minor', labelsize=18)\n",
        "    \n",
        "    plt.title(ttl, fontsize=18)\n",
        "\n",
        "    #     fig.savefig(fname=figfn, formatstr='png')\n",
        "    plt.show()\n",
        "\n",
        "def get_padding(x):\n",
        "    return 2*(np.max(x)-np.min(x))/10"
      ],
      "execution_count": null,
      "outputs": []
    },
    {
      "cell_type": "markdown",
      "metadata": {
        "id": "B9iJLqSvOtwm"
      },
      "source": [
        "# Prepare Text"
      ]
    },
    {
      "cell_type": "code",
      "metadata": {
        "colab": {
          "base_uri": "https://localhost:8080/"
        },
        "id": "Wf6fmNEWftQ2",
        "outputId": "523c25fe-789e-4cda-f66e-e872dfe91db2"
      },
      "source": [
        "text = \"Fish swim in deep water. Ocean is very deep. Fish swim in darkness. \\\n",
        "          Birds are high in the sky. Birds fly very high. On a sunny day the sky is full of light.\"\n",
        "'''\n",
        "text = \"Рыба плавает глубоко в воде. Дно океана очень глубоко. Рыба плавает в темноте. \\\n",
        "             Птицы улетели в небо. Птицы летают очень высоко. В солнечный день небо чистое.\"\n",
        "'''\n",
        "# text = \"Fish and water. Birds and sky.\"\n",
        "\n",
        "# Text should have even number of sentences. This will help with illustration.\n",
        "# Words in the 1st half will be 'red'.\n",
        "# Words in the 2nd half of sentences must be 'cyan'.\n",
        "print('TEXT = ', text)\n",
        "\n",
        "corpus=[s.lower().strip() for s in text.split('.')][:-1]\n",
        "corpus = remove_stop_words(corpus)\n",
        "print('\\nCLEAN CORPUS = ',corpus)\n",
        "sentences = [s.split(' ') for s in corpus]\n",
        "print('\\nSENTENCES = ',sentences)\n",
        "\n",
        "# GET VOCAB\n",
        "vocab=[]\n",
        "for ss in sentences:\n",
        "  # print(ss)\n",
        "  vocab += ss\n",
        "    \n",
        "vocab = sorted(set(vocab))\n",
        "print('\\nVOCABULARY = ', vocab)\n",
        "print(len(vocab))\n",
        "\n",
        "\n",
        "\n",
        "# DICs mapping each word to a number and vice-versa\n",
        "word2idx = {w: idx for (idx, w) in enumerate(vocab)}\n",
        "idx2word = {idx: w for (idx, w) in enumerate(vocab)}\n",
        "'''\n",
        "print('word2idx=', word2idx)\n",
        "print('idx2word=', idx2word)\n",
        "'''\n",
        "\n",
        "# COUNT WORDS\n",
        "vocab_word_count = np.zeros(len(vocab))\n",
        "for ss in sentences:\n",
        "    for word in ss:\n",
        "        idx = vocab.index(word) \n",
        "        vocab_word_count[idx] += 1\n",
        "# print('vocab_word_count = ',vocab_word_count)\n",
        "\n",
        "\n",
        "# Create master DF for our data \n",
        "vocab_df = pd.DataFrame( columns=['vocab','color'] )\n",
        "\n",
        "# assign colors\n",
        "# ASSUME: corpus has even number of sentences. First half must be 'red'.\n",
        "# Words in the second half of sentences must be 'blue'\n",
        "ix=0\n",
        "for i, ss in zip(range(len(sentences)), sentences):\n",
        "    wordcolor = 'red' if i<len(sentences)/2 else 'blue'\n",
        "    for w in ss:\n",
        "        vocab_df.loc[ix]=[w, wordcolor]\n",
        "        ix+=1\n",
        "        \n",
        "total_number_of_words = ix\n",
        "vocab_df = vocab_df.drop_duplicates().sort_values(by='vocab').reset_index(drop=True)\n",
        "vocab_df['count']=vocab_word_count\n",
        "vocab_df['freq'] = vocab_df['count']/total_number_of_words\n",
        "\n",
        "\n",
        "# initialize dictionary of context words\n",
        "context_words = {}\n",
        "for w in vocab:\n",
        "    context_words[w] = []\n",
        "\n",
        "WINDOW_SIZE = 2\n",
        "data = []\n",
        "for sentence in sentences:\n",
        "    for idx, word in enumerate(sentence):\n",
        "        for neighbor in sentence[max(idx - WINDOW_SIZE, 0) :\\\n",
        "                                 min(idx + WINDOW_SIZE, len(sentence)) + 1] : \n",
        "            if neighbor != word:\n",
        "                data.append([word, neighbor])\n",
        "                context_words[word].append(neighbor)\n",
        "\n",
        "df_context_words = pd.DataFrame({'vocab': list(context_words.keys()),   \\\n",
        "                                 'c_words': list(context_words.values())})\n",
        "\n",
        "df_context_words['num_c_words_pairs'] = [ len(wrds) for wrds in list(context_words.values()) ]\n",
        "df_context_words['set_c_words'] = [ set(wrds) for wrds in list(context_words.values()) ]\n",
        "df_context_words['num_c_words'] = [ len(set(wrds)) for wrds in list(context_words.values()) ]\n",
        "vocab_df2 = vocab_df.merge( df_context_words, how='outer',on=['vocab'] )\n",
        "tr_pairs = pd.DataFrame(data, columns = ['center', 'context'])\n",
        "print(tr_pairs.head(n=44))\n",
        "print('...')\n",
        "print(tr_pairs.tail())\n",
        "\n"
      ],
      "execution_count": null,
      "outputs": [
        {
          "output_type": "stream",
          "name": "stdout",
          "text": [
            "TEXT =  Fish swim in deep water. Ocean is very deep. Fish swim in darkness.           Birds are high in the sky. Birds fly very high. On a sunny day the sky is full of light.\n",
            "\n",
            "CLEAN CORPUS =  ['fish swim deep water', 'ocean deep', 'fish swim darkness', 'birds high sky', 'birds fly high', 'sunny day sky full light']\n",
            "\n",
            "SENTENCES =  [['fish', 'swim', 'deep', 'water'], ['ocean', 'deep'], ['fish', 'swim', 'darkness'], ['birds', 'high', 'sky'], ['birds', 'fly', 'high'], ['sunny', 'day', 'sky', 'full', 'light']]\n",
            "\n",
            "VOCABULARY =  ['birds', 'darkness', 'day', 'deep', 'fish', 'fly', 'full', 'high', 'light', 'ocean', 'sky', 'sunny', 'swim', 'water']\n",
            "14\n",
            "      center   context\n",
            "0       fish      swim\n",
            "1       fish      deep\n",
            "2       swim      fish\n",
            "3       swim      deep\n",
            "4       swim     water\n",
            "5       deep      fish\n",
            "6       deep      swim\n",
            "7       deep     water\n",
            "8      water      swim\n",
            "9      water      deep\n",
            "10     ocean      deep\n",
            "11      deep     ocean\n",
            "12      fish      swim\n",
            "13      fish  darkness\n",
            "14      swim      fish\n",
            "15      swim  darkness\n",
            "16  darkness      fish\n",
            "17  darkness      swim\n",
            "18     birds      high\n",
            "19     birds       sky\n",
            "20      high     birds\n",
            "21      high       sky\n",
            "22       sky     birds\n",
            "23       sky      high\n",
            "24     birds       fly\n",
            "25     birds      high\n",
            "26       fly     birds\n",
            "27       fly      high\n",
            "28      high     birds\n",
            "29      high       fly\n",
            "30     sunny       day\n",
            "31     sunny       sky\n",
            "32       day     sunny\n",
            "33       day       sky\n",
            "34       day      full\n",
            "35       sky     sunny\n",
            "36       sky       day\n",
            "37       sky      full\n",
            "38       sky     light\n",
            "39      full       day\n",
            "40      full       sky\n",
            "41      full     light\n",
            "42     light       sky\n",
            "43     light      full\n",
            "...\n",
            "   center context\n",
            "39   full     day\n",
            "40   full     sky\n",
            "41   full   light\n",
            "42  light     sky\n",
            "43  light    full\n"
          ]
        }
      ]
    },
    {
      "cell_type": "code",
      "metadata": {
        "id": "T-SsjzLtftQ3",
        "colab": {
          "base_uri": "https://localhost:8080/",
          "height": 558
        },
        "outputId": "88f3026b-7eef-4cb8-c564-8f42c4af688b"
      },
      "source": [
        "vocab_df2"
      ],
      "execution_count": null,
      "outputs": [
        {
          "output_type": "execute_result",
          "data": {
            "text/html": [
              "<div>\n",
              "<style scoped>\n",
              "    .dataframe tbody tr th:only-of-type {\n",
              "        vertical-align: middle;\n",
              "    }\n",
              "\n",
              "    .dataframe tbody tr th {\n",
              "        vertical-align: top;\n",
              "    }\n",
              "\n",
              "    .dataframe thead th {\n",
              "        text-align: right;\n",
              "    }\n",
              "</style>\n",
              "<table border=\"1\" class=\"dataframe\">\n",
              "  <thead>\n",
              "    <tr style=\"text-align: right;\">\n",
              "      <th></th>\n",
              "      <th>vocab</th>\n",
              "      <th>color</th>\n",
              "      <th>count</th>\n",
              "      <th>freq</th>\n",
              "      <th>c_words</th>\n",
              "      <th>num_c_words_pairs</th>\n",
              "      <th>set_c_words</th>\n",
              "      <th>num_c_words</th>\n",
              "    </tr>\n",
              "  </thead>\n",
              "  <tbody>\n",
              "    <tr>\n",
              "      <th>0</th>\n",
              "      <td>birds</td>\n",
              "      <td>blue</td>\n",
              "      <td>2.0</td>\n",
              "      <td>0.10</td>\n",
              "      <td>[high, sky, fly, high]</td>\n",
              "      <td>4</td>\n",
              "      <td>{high, fly, sky}</td>\n",
              "      <td>3</td>\n",
              "    </tr>\n",
              "    <tr>\n",
              "      <th>1</th>\n",
              "      <td>darkness</td>\n",
              "      <td>red</td>\n",
              "      <td>1.0</td>\n",
              "      <td>0.05</td>\n",
              "      <td>[fish, swim]</td>\n",
              "      <td>2</td>\n",
              "      <td>{fish, swim}</td>\n",
              "      <td>2</td>\n",
              "    </tr>\n",
              "    <tr>\n",
              "      <th>2</th>\n",
              "      <td>day</td>\n",
              "      <td>blue</td>\n",
              "      <td>1.0</td>\n",
              "      <td>0.05</td>\n",
              "      <td>[sunny, sky, full]</td>\n",
              "      <td>3</td>\n",
              "      <td>{sunny, full, sky}</td>\n",
              "      <td>3</td>\n",
              "    </tr>\n",
              "    <tr>\n",
              "      <th>3</th>\n",
              "      <td>deep</td>\n",
              "      <td>red</td>\n",
              "      <td>2.0</td>\n",
              "      <td>0.10</td>\n",
              "      <td>[fish, swim, water, ocean]</td>\n",
              "      <td>4</td>\n",
              "      <td>{fish, swim, ocean, water}</td>\n",
              "      <td>4</td>\n",
              "    </tr>\n",
              "    <tr>\n",
              "      <th>4</th>\n",
              "      <td>fish</td>\n",
              "      <td>red</td>\n",
              "      <td>2.0</td>\n",
              "      <td>0.10</td>\n",
              "      <td>[swim, deep, swim, darkness]</td>\n",
              "      <td>4</td>\n",
              "      <td>{deep, swim, darkness}</td>\n",
              "      <td>3</td>\n",
              "    </tr>\n",
              "    <tr>\n",
              "      <th>5</th>\n",
              "      <td>fly</td>\n",
              "      <td>blue</td>\n",
              "      <td>1.0</td>\n",
              "      <td>0.05</td>\n",
              "      <td>[birds, high]</td>\n",
              "      <td>2</td>\n",
              "      <td>{high, birds}</td>\n",
              "      <td>2</td>\n",
              "    </tr>\n",
              "    <tr>\n",
              "      <th>6</th>\n",
              "      <td>full</td>\n",
              "      <td>blue</td>\n",
              "      <td>1.0</td>\n",
              "      <td>0.05</td>\n",
              "      <td>[day, sky, light]</td>\n",
              "      <td>3</td>\n",
              "      <td>{sky, day, light}</td>\n",
              "      <td>3</td>\n",
              "    </tr>\n",
              "    <tr>\n",
              "      <th>7</th>\n",
              "      <td>high</td>\n",
              "      <td>blue</td>\n",
              "      <td>2.0</td>\n",
              "      <td>0.10</td>\n",
              "      <td>[birds, sky, birds, fly]</td>\n",
              "      <td>4</td>\n",
              "      <td>{sky, fly, birds}</td>\n",
              "      <td>3</td>\n",
              "    </tr>\n",
              "    <tr>\n",
              "      <th>8</th>\n",
              "      <td>light</td>\n",
              "      <td>blue</td>\n",
              "      <td>1.0</td>\n",
              "      <td>0.05</td>\n",
              "      <td>[sky, full]</td>\n",
              "      <td>2</td>\n",
              "      <td>{sky, full}</td>\n",
              "      <td>2</td>\n",
              "    </tr>\n",
              "    <tr>\n",
              "      <th>9</th>\n",
              "      <td>ocean</td>\n",
              "      <td>red</td>\n",
              "      <td>1.0</td>\n",
              "      <td>0.05</td>\n",
              "      <td>[deep]</td>\n",
              "      <td>1</td>\n",
              "      <td>{deep}</td>\n",
              "      <td>1</td>\n",
              "    </tr>\n",
              "    <tr>\n",
              "      <th>10</th>\n",
              "      <td>sky</td>\n",
              "      <td>blue</td>\n",
              "      <td>2.0</td>\n",
              "      <td>0.10</td>\n",
              "      <td>[birds, high, sunny, day, full, light]</td>\n",
              "      <td>6</td>\n",
              "      <td>{sunny, day, full, birds, light, high}</td>\n",
              "      <td>6</td>\n",
              "    </tr>\n",
              "    <tr>\n",
              "      <th>11</th>\n",
              "      <td>sunny</td>\n",
              "      <td>blue</td>\n",
              "      <td>1.0</td>\n",
              "      <td>0.05</td>\n",
              "      <td>[day, sky]</td>\n",
              "      <td>2</td>\n",
              "      <td>{sky, day}</td>\n",
              "      <td>2</td>\n",
              "    </tr>\n",
              "    <tr>\n",
              "      <th>12</th>\n",
              "      <td>swim</td>\n",
              "      <td>red</td>\n",
              "      <td>2.0</td>\n",
              "      <td>0.10</td>\n",
              "      <td>[fish, deep, water, fish, darkness]</td>\n",
              "      <td>5</td>\n",
              "      <td>{deep, fish, darkness, water}</td>\n",
              "      <td>4</td>\n",
              "    </tr>\n",
              "    <tr>\n",
              "      <th>13</th>\n",
              "      <td>water</td>\n",
              "      <td>red</td>\n",
              "      <td>1.0</td>\n",
              "      <td>0.05</td>\n",
              "      <td>[swim, deep]</td>\n",
              "      <td>2</td>\n",
              "      <td>{deep, swim}</td>\n",
              "      <td>2</td>\n",
              "    </tr>\n",
              "  </tbody>\n",
              "</table>\n",
              "</div>"
            ],
            "text/plain": [
              "       vocab color  ...                             set_c_words  num_c_words\n",
              "0      birds  blue  ...                        {high, fly, sky}            3\n",
              "1   darkness   red  ...                            {fish, swim}            2\n",
              "2        day  blue  ...                      {sunny, full, sky}            3\n",
              "3       deep   red  ...              {fish, swim, ocean, water}            4\n",
              "4       fish   red  ...                  {deep, swim, darkness}            3\n",
              "5        fly  blue  ...                           {high, birds}            2\n",
              "6       full  blue  ...                       {sky, day, light}            3\n",
              "7       high  blue  ...                       {sky, fly, birds}            3\n",
              "8      light  blue  ...                             {sky, full}            2\n",
              "9      ocean   red  ...                                  {deep}            1\n",
              "10       sky  blue  ...  {sunny, day, full, birds, light, high}            6\n",
              "11     sunny  blue  ...                              {sky, day}            2\n",
              "12      swim   red  ...           {deep, fish, darkness, water}            4\n",
              "13     water   red  ...                            {deep, swim}            2\n",
              "\n",
              "[14 rows x 8 columns]"
            ]
          },
          "metadata": {},
          "execution_count": 4
        }
      ]
    },
    {
      "cell_type": "markdown",
      "metadata": {
        "id": "fO1LBuFCOtwz"
      },
      "source": [
        "# Simplified Skip-Gram Model (no W1)"
      ]
    },
    {
      "cell_type": "code",
      "metadata": {
        "id": "y1ukIJdMOtw0",
        "colab": {
          "base_uri": "https://localhost:8080/",
          "height": 500
        },
        "outputId": "e40f3178-f504-45bc-8e00-9af080fc99c8"
      },
      "source": [
        "import torch\n",
        "from torch.autograd import Variable\n",
        "import torch.nn.functional as F\n",
        "import time\n",
        "# WORK_WITH_W0_FOR_SLIDES = True\n",
        "WORK_WITH_W0_FOR_SLIDES = False\n",
        "\n",
        "if WORK_WITH_W0_FOR_SLIDES:\n",
        "  W0 = torch.tensor(  [[0.19, 0.22], [0.09, 1.57], [-1.02,-1.48], [1.92, -0.83],\n",
        "    [-0.27, -0.82], [0.25, 0.81], [-1.34,  1.19], [ 1.47, -2.03], [1.55,  0.32],\n",
        "    [-0.41,  0.48], [0.77, -1.22], [1.15, -0.22], [0.3 , -0.77], [0.2 ,  0.34]], requires_grad=True)\n",
        "  # W0\n",
        "  print('NOTE: working with W0 for slides:')\n",
        "else:\n",
        "  EMBEDDING_DIMENSION = 2\n",
        "  print('NOTE: working with RANDOM W0 for the demo:')\n",
        "  W0 = Variable(torch.randn(len(vocab), EMBEDDING_DIMENSION).float(), requires_grad=True)\n",
        "\n",
        "W0_init = torch.clone( W0 )\n",
        "vocab_df['init_embedding']=[np.round(v,2) for v in  W0.cpu().detach().numpy()]\n",
        "vocab_df[ ['vocab', 'init_embedding' ] ]\n",
        "\n"
      ],
      "execution_count": null,
      "outputs": [
        {
          "output_type": "stream",
          "name": "stdout",
          "text": [
            "NOTE: working with RANDOM W0 for the demo:\n"
          ]
        },
        {
          "output_type": "execute_result",
          "data": {
            "text/html": [
              "<div>\n",
              "<style scoped>\n",
              "    .dataframe tbody tr th:only-of-type {\n",
              "        vertical-align: middle;\n",
              "    }\n",
              "\n",
              "    .dataframe tbody tr th {\n",
              "        vertical-align: top;\n",
              "    }\n",
              "\n",
              "    .dataframe thead th {\n",
              "        text-align: right;\n",
              "    }\n",
              "</style>\n",
              "<table border=\"1\" class=\"dataframe\">\n",
              "  <thead>\n",
              "    <tr style=\"text-align: right;\">\n",
              "      <th></th>\n",
              "      <th>vocab</th>\n",
              "      <th>init_embedding</th>\n",
              "    </tr>\n",
              "  </thead>\n",
              "  <tbody>\n",
              "    <tr>\n",
              "      <th>0</th>\n",
              "      <td>birds</td>\n",
              "      <td>[1.46, 0.06]</td>\n",
              "    </tr>\n",
              "    <tr>\n",
              "      <th>1</th>\n",
              "      <td>darkness</td>\n",
              "      <td>[0.98, -0.35]</td>\n",
              "    </tr>\n",
              "    <tr>\n",
              "      <th>2</th>\n",
              "      <td>day</td>\n",
              "      <td>[0.45, 0.49]</td>\n",
              "    </tr>\n",
              "    <tr>\n",
              "      <th>3</th>\n",
              "      <td>deep</td>\n",
              "      <td>[-0.75, 0.29]</td>\n",
              "    </tr>\n",
              "    <tr>\n",
              "      <th>4</th>\n",
              "      <td>fish</td>\n",
              "      <td>[0.16, -0.71]</td>\n",
              "    </tr>\n",
              "    <tr>\n",
              "      <th>5</th>\n",
              "      <td>fly</td>\n",
              "      <td>[-1.61, -0.91]</td>\n",
              "    </tr>\n",
              "    <tr>\n",
              "      <th>6</th>\n",
              "      <td>full</td>\n",
              "      <td>[-0.23, -0.66]</td>\n",
              "    </tr>\n",
              "    <tr>\n",
              "      <th>7</th>\n",
              "      <td>high</td>\n",
              "      <td>[-0.64, -0.44]</td>\n",
              "    </tr>\n",
              "    <tr>\n",
              "      <th>8</th>\n",
              "      <td>light</td>\n",
              "      <td>[0.49, -0.14]</td>\n",
              "    </tr>\n",
              "    <tr>\n",
              "      <th>9</th>\n",
              "      <td>ocean</td>\n",
              "      <td>[0.68, 0.01]</td>\n",
              "    </tr>\n",
              "    <tr>\n",
              "      <th>10</th>\n",
              "      <td>sky</td>\n",
              "      <td>[0.13, -0.64]</td>\n",
              "    </tr>\n",
              "    <tr>\n",
              "      <th>11</th>\n",
              "      <td>sunny</td>\n",
              "      <td>[-1.01, 0.45]</td>\n",
              "    </tr>\n",
              "    <tr>\n",
              "      <th>12</th>\n",
              "      <td>swim</td>\n",
              "      <td>[-1.29, -0.38]</td>\n",
              "    </tr>\n",
              "    <tr>\n",
              "      <th>13</th>\n",
              "      <td>water</td>\n",
              "      <td>[1.25, -1.85]</td>\n",
              "    </tr>\n",
              "  </tbody>\n",
              "</table>\n",
              "</div>"
            ],
            "text/plain": [
              "       vocab  init_embedding\n",
              "0      birds    [1.46, 0.06]\n",
              "1   darkness   [0.98, -0.35]\n",
              "2        day    [0.45, 0.49]\n",
              "3       deep   [-0.75, 0.29]\n",
              "4       fish   [0.16, -0.71]\n",
              "5        fly  [-1.61, -0.91]\n",
              "6       full  [-0.23, -0.66]\n",
              "7       high  [-0.64, -0.44]\n",
              "8      light   [0.49, -0.14]\n",
              "9      ocean    [0.68, 0.01]\n",
              "10       sky   [0.13, -0.64]\n",
              "11     sunny   [-1.01, 0.45]\n",
              "12      swim  [-1.29, -0.38]\n",
              "13     water   [1.25, -1.85]"
            ]
          },
          "metadata": {},
          "execution_count": 7
        }
      ]
    },
    {
      "cell_type": "code",
      "metadata": {
        "id": "_vBCeYXpOtw2",
        "colab": {
          "base_uri": "https://localhost:8080/",
          "height": 274
        },
        "outputId": "d6a10890-aec5-4a84-978f-c369ae570d27"
      },
      "source": [
        "%matplotlib inline\n",
        "# %matplotlib notebook\n",
        "\n",
        "# plot_words(W0_init.cpu().detach().numpy(), vocab, ttl='Initial embedding', wcolor=vocab_df.color)\n",
        "plot_words(W0_init.cpu().detach().numpy(), vocab, ttl='', wcolor=vocab_df.color)\n"
      ],
      "execution_count": null,
      "outputs": [
        {
          "output_type": "display_data",
          "data": {
            "image/png": "[encoded data removed]",
            "text/plain": [
              "<Figure size 432x288 with 1 Axes>"
            ]
          },
          "metadata": {
            "needs_background": "light"
          }
        }
      ]
    },
    {
      "cell_type": "markdown",
      "metadata": {
        "id": "EN6NNWRMOtw5"
      },
      "source": [
        "# Main Loop\n"
      ]
    },
    {
      "cell_type": "code",
      "metadata": {
        "id": "F21m3pRbOtw7"
      },
      "source": [
        "U_array = []"
      ],
      "execution_count": null,
      "outputs": []
    },
    {
      "cell_type": "code",
      "metadata": {
        "id": "x40q7T5KOtw9",
        "colab": {
          "base_uri": "https://localhost:8080/"
        },
        "outputId": "31650d1d-3112-4d3b-cb18-ce3c67cb92c2"
      },
      "source": [
        "EPOCHS = 3000\n",
        "LEARNING_RATE = 0.001\n",
        "pair_ix = 24  # index of contect pair for prints\n",
        "sttime = time.time()\n",
        "\n",
        "# PyTorch Training\n",
        "for epoch in range(EPOCHS):\n",
        "    U = 0\n",
        "    for i in range(len(tr_pairs)):\n",
        "        \n",
        "        w_center     = tr_pairs.center[i]\n",
        "        w_context    = tr_pairs.context[i]\n",
        "        \n",
        "        w_center_ix  = word2idx[w_center]\n",
        "        w_context_ix = word2idx[w_context]\n",
        "        \n",
        "        w_center_embed = W0[word2idx[tr_pairs.center[i]],:]        \n",
        "        dot_products = torch.matmul( w_center_embed, torch.transpose(W0, 0, 1) )      \n",
        "        log_softmax = F.log_softmax(dot_products, dim=0)\n",
        "        \n",
        "        ix = torch.tensor([w_context_ix])\n",
        "        U_increment = torch.mul( F.nll_loss( log_softmax.view(1,-1), ix ), torch.tensor([-1.0]) )\n",
        "        U += U_increment.item()       \n",
        "        \n",
        "        if (epoch % 300 == 0) & \\\n",
        "           (w_center  == tr_pairs.center[pair_ix]) & \\\n",
        "           (w_context == tr_pairs.context[pair_ix]):\n",
        "            U_incr_val = round(U_increment.cpu().detach().numpy()[0],3)\n",
        "            if epoch == 0:\n",
        "                print(f'    w_center={w_center}, w_center_ix={w_center_ix}', \n",
        "                      f'  w_context={w_context}, w_context_ix={w_context_ix} ')    \n",
        "            print( f'  * epoch={epoch},  i={i}, U=',np.round(U,4),\n",
        "                 '   U_increment=',  U_incr_val  )\n",
        "        \n",
        "        U_increment.backward()\n",
        "        W0.data += LEARNING_RATE * W0.grad.data\n",
        "        W0.grad.data.zero_()\n",
        "        \n",
        "    U_array.append(U)\n",
        "\n",
        "endtime = time.time()\n",
        "ttl = f'Epochs={len(U_array)}, LR={LEARNING_RATE}, time={int(endtime-sttime)} sec'\n",
        "\n",
        "print('Finished training with: U=',np.round(U,4),'\\n', ttl)"
      ],
      "execution_count": null,
      "outputs": [
        {
          "output_type": "stream",
          "name": "stdout",
          "text": [
            "    w_center=birds, w_center_ix=0   w_context=fly, w_context_ix=5 \n",
            "  * epoch=0,  i=24, U= -91.3676    U_increment= -5.743\n",
            "  * epoch=300,  i=24, U= -59.0927    U_increment= -2.793\n",
            "  * epoch=600,  i=24, U= -51.1012    U_increment= -2.635\n",
            "  * epoch=900,  i=24, U= -47.2078    U_increment= -2.262\n",
            "  * epoch=1200,  i=24, U= -44.4404    U_increment= -1.789\n",
            "  * epoch=1500,  i=24, U= -43.6353    U_increment= -1.673\n",
            "  * epoch=1800,  i=24, U= -43.0406    U_increment= -1.66\n",
            "  * epoch=2100,  i=24, U= -42.5672    U_increment= -1.667\n",
            "  * epoch=2400,  i=24, U= -42.2711    U_increment= -1.676\n",
            "  * epoch=2700,  i=24, U= -42.1033    U_increment= -1.683\n",
            "Finished training with: U= -73.222 \n",
            " Epochs=3000, LR=0.001, time=55 sec\n"
          ]
        }
      ]
    },
    {
      "cell_type": "code",
      "metadata": {
        "id": "e3hjnjSfOtw-",
        "colab": {
          "base_uri": "https://localhost:8080/",
          "height": 308
        },
        "outputId": "3e9d8c5a-4e05-48a0-f143-202be3df7bc8"
      },
      "source": [
        "%matplotlib inline\n",
        "# %matplotlib notebook\n",
        "import matplotlib.pyplot as plt\n",
        "fig, ax = plt.subplots()\n",
        "plt.rcParams[\"figure.figsize\"] = (6,6)\n",
        "\n",
        "epochs = range(1, len(U_array)+1)\n",
        "plt.plot(epochs, U_array, 'bo')\n",
        "\n",
        "plt.title(ttl, fontsize=14)\n",
        "plt.xlabel('EPOCH', fontsize=14)\n",
        "plt.ylabel('U', fontsize=14)\n",
        "plt.grid()\n",
        "ax.tick_params(axis='both', which='major', labelsize=18)\n",
        "ax.tick_params(axis='both', which='minor', labelsize=18)\n",
        "\n",
        "vocab_df['embedding']=[np.round(v,2) for v in  W0.cpu().detach().numpy()]\n",
        "# vocab_df"
      ],
      "execution_count": null,
      "outputs": [
        {
          "output_type": "display_data",
          "data": {
            "image/png": "[encoded data removed]",
            "text/plain": [
              "<Figure size 432x288 with 1 Axes>"
            ]
          },
          "metadata": {
            "needs_background": "light"
          }
        }
      ]
    },
    {
      "cell_type": "code",
      "metadata": {
        "id": "5Pl72pQDOtw_",
        "colab": {
          "base_uri": "https://localhost:8080/",
          "height": 274
        },
        "outputId": "46667028-1f02-49c2-c979-3143aad59154"
      },
      "source": [
        "%matplotlib inline\n",
        "# %matplotlib notebook\n",
        "# import matplotlib.pyplot as plt\n",
        "# fig, ax = plt.subplots()\n",
        "# plt.rcParams[\"figure.figsize\"] = (6,6)\n",
        "\n",
        "# plot_words(W0.cpu().detach().numpy(), vocab, ttl=ttl, wcolor=vocab_df.color)\n",
        "plot_words(W0.cpu().detach().numpy(), vocab, ttl='', wcolor=vocab_df.color)\n"
      ],
      "execution_count": null,
      "outputs": [
        {
          "output_type": "display_data",
          "data": {
            "image/png": "[encoded data removed]",
            "text/plain": [
              "<Figure size 432x288 with 1 Axes>"
            ]
          },
          "metadata": {
            "needs_background": "light"
          }
        }
      ]
    },
    {
      "cell_type": "code",
      "metadata": {
        "id": "dK7fuT8OOtxA"
      },
      "source": [
        ""
      ],
      "execution_count": null,
      "outputs": []
    },
    {
      "cell_type": "code",
      "metadata": {
        "id": "aVvffq7pftRE"
      },
      "source": [
        "# W0"
      ],
      "execution_count": null,
      "outputs": []
    },
    {
      "cell_type": "code",
      "metadata": {
        "id": "SG9-3X02ftRF"
      },
      "source": [
        ""
      ],
      "execution_count": null,
      "outputs": []
    },
    {
      "cell_type": "code",
      "metadata": {
        "id": "ZYLXGMZQftRH"
      },
      "source": [
        ""
      ],
      "execution_count": null,
      "outputs": []
    },
    {
      "cell_type": "code",
      "metadata": {
        "id": "rpvkd9VaFRw2"
      },
      "source": [
        ""
      ],
      "execution_count": null,
      "outputs": []
    },
    {
      "cell_type": "code",
      "metadata": {
        "id": "NQ1tuaG3FR-5"
      },
      "source": [
        ""
      ],
      "execution_count": null,
      "outputs": []
    },
    {
      "cell_type": "code",
      "metadata": {
        "id": "fsQk0_-XFSKT"
      },
      "source": [
        ""
      ],
      "execution_count": null,
      "outputs": []
    },
    {
      "cell_type": "code",
      "metadata": {
        "id": "cfQP0MbcFSU8"
      },
      "source": [
        ""
      ],
      "execution_count": null,
      "outputs": []
    },
    {
      "cell_type": "code",
      "metadata": {
        "id": "f0d1v0XcFSfa"
      },
      "source": [
        ""
      ],
      "execution_count": null,
      "outputs": []
    },
    {
      "cell_type": "code",
      "metadata": {
        "id": "Nf8J815rFSpk"
      },
      "source": [
        ""
      ],
      "execution_count": null,
      "outputs": []
    },
    {
      "cell_type": "code",
      "metadata": {
        "id": "yZjBY_SSFSy8"
      },
      "source": [
        ""
      ],
      "execution_count": null,
      "outputs": []
    },
    {
      "cell_type": "code",
      "metadata": {
        "id": "F75woiiXFS8z"
      },
      "source": [
        ""
      ],
      "execution_count": null,
      "outputs": []
    },
    {
      "cell_type": "code",
      "metadata": {
        "id": "NQyI1WJTFTGQ"
      },
      "source": [
        ""
      ],
      "execution_count": null,
      "outputs": []
    },
    {
      "cell_type": "code",
      "metadata": {
        "id": "8Q2q7yADFTP4"
      },
      "source": [
        ""
      ],
      "execution_count": null,
      "outputs": []
    },
    {
      "cell_type": "code",
      "metadata": {
        "id": "qHK9OkydFTY4"
      },
      "source": [
        ""
      ],
      "execution_count": null,
      "outputs": []
    },
    {
      "cell_type": "code",
      "metadata": {
        "id": "2c4AXJVZFTiG"
      },
      "source": [
        ""
      ],
      "execution_count": null,
      "outputs": []
    },
    {
      "cell_type": "markdown",
      "metadata": {
        "id": "Vhj5K9ufftRL"
      },
      "source": [
        "# Code for SLIDE \"TRAINING\""
      ]
    },
    {
      "cell_type": "code",
      "metadata": {
        "colab": {
          "base_uri": "https://localhost:8080/"
        },
        "id": "BFDtXJg_C_Q7",
        "outputId": "6adeab20-d14e-4c45-ac61-179f818f7425"
      },
      "source": [
        "M0=np.round(W0_init.cpu().detach().numpy(),1)\n",
        "M0"
      ],
      "execution_count": null,
      "outputs": [
        {
          "output_type": "execute_result",
          "data": {
            "text/plain": [
              "array([[ 0.2,  0.2],\n",
              "       [ 0.1,  1.6],\n",
              "       [-1. , -1.5],\n",
              "       [ 1.9, -0.8],\n",
              "       [-0.3, -0.8],\n",
              "       [ 0.2,  0.8],\n",
              "       [-1.3,  1.2],\n",
              "       [ 1.5, -2. ],\n",
              "       [ 1.6,  0.3],\n",
              "       [-0.4,  0.5],\n",
              "       [ 0.8, -1.2],\n",
              "       [ 1.2, -0.2],\n",
              "       [ 0.3, -0.8],\n",
              "       [ 0.2,  0.3]], dtype=float32)"
            ]
          },
          "metadata": {},
          "execution_count": 12
        }
      ]
    },
    {
      "cell_type": "code",
      "metadata": {
        "id": "0La_e7QWftRN",
        "colab": {
          "base_uri": "https://localhost:8080/"
        },
        "outputId": "bd88e407-c778-4e02-e3b5-212fa59b6644"
      },
      "source": [
        "# type(W0)  tensor([0.1529, 1.2841], grad_fn=<SelectBackward>)\n",
        "# M0= W0.cpu().detach().numpy()\n",
        "\n",
        "\n",
        "# M0 = np.array([[ 1.9, -0.7],\n",
        "#        [-1.6, -1. ],\n",
        "#        [-1.1, -0. ],\n",
        "#        [-0.4,  0.2],\n",
        "#        [-1.2, -1. ],\n",
        "#        [-0.9, -0.2],\n",
        "#        [-1.1, -0.4],\n",
        "#        [-1.5,  1.4],\n",
        "#        [-0.1, -1. ],\n",
        "#        [-0.5, -1.3],\n",
        "#        [-0.8,  0.4],\n",
        "#        [ 0.5, -1.1],\n",
        "#        [-0.4,  0.7],\n",
        "#        [ 0.1, -0.2],\n",
        "#        [ 0.7, -0.8]])\n",
        "# M0=W0_init.cpu().detach().numpy()\n",
        "M1=M0.T\n",
        "print(M1)"
      ],
      "execution_count": null,
      "outputs": [
        {
          "output_type": "stream",
          "name": "stdout",
          "text": [
            "[[ 0.2  0.1 -1.   1.9 -0.3  0.2 -1.3  1.5  1.6 -0.4  0.8  1.2  0.3  0.2]\n",
            " [ 0.2  1.6 -1.5 -0.8 -0.8  0.8  1.2 -2.   0.3  0.5 -1.2 -0.2 -0.8  0.3]]\n"
          ]
        }
      ]
    },
    {
      "cell_type": "code",
      "metadata": {
        "id": "6yqb_UAIftRP",
        "colab": {
          "base_uri": "https://localhost:8080/"
        },
        "outputId": "37458e8c-53d5-4b05-d88c-b3df6b557bff"
      },
      "source": [
        "# M1 = np.array([[ 0.2, -1.4, -0.8,  1.3, -1.5, -1.4,  0.6, -1.5,  0.4, -0.9,  0.3,  1.1,  0.5, -0.3,  1.1],\n",
        "#        [ 1.3, -1.2,  1.6, -1.4,  0.9, -1.2, -1.9,  0.9,  1.8, -1.8,  1.7, -1.3,  1.4, -1.7, -1.3]])\n",
        "\n",
        "# import sys\n",
        "# np.set_printoptions(suppress=True,linewidth=sys.maxsize,threshold=sys.maxsize)\n",
        "\n",
        "# # from shutil import get_terminal_size\n",
        "# # pd.set_option('display.width', get_terminal_size()[0])\n",
        "\n",
        "# # M1= np.round(W0n.T,1)\n",
        "# print(M1)"
      ],
      "execution_count": null,
      "outputs": [
        {
          "output_type": "stream",
          "name": "stdout",
          "text": [
            "[[ 0.2 -1.4 -0.8  1.3 -1.5 -1.4  0.6 -1.5  0.4 -0.9  0.3  1.1  0.5 -0.3  1.1]\n",
            " [ 1.3 -1.2  1.6 -1.4  0.9 -1.2 -1.9  0.9  1.8 -1.8  1.7 -1.3  1.4 -1.7 -1.3]]\n"
          ]
        }
      ]
    },
    {
      "cell_type": "code",
      "metadata": {
        "id": "W5z1jt4WftRT",
        "colab": {
          "base_uri": "https://localhost:8080/"
        },
        "outputId": "d268d6b0-0a70-422d-ac89-97a7ad75f4f4"
      },
      "source": [
        "x=M0[12,:]\n",
        "x"
      ],
      "execution_count": null,
      "outputs": [
        {
          "output_type": "execute_result",
          "data": {
            "text/plain": [
              "array([ 0.3, -0.8], dtype=float32)"
            ]
          },
          "metadata": {},
          "execution_count": 14
        }
      ]
    },
    {
      "cell_type": "code",
      "metadata": {
        "id": "jKYxdHDFftRU",
        "colab": {
          "base_uri": "https://localhost:8080/"
        },
        "outputId": "ce164045-db48-436b-df2a-c7d1111888e0"
      },
      "source": [
        "xM1 = np.round(np.dot(x,M1),1)\n",
        "print(xM1)\n",
        "exp_xM1 = np.round(  np.exp(xM1),1)\n",
        "print(exp_xM1)\n",
        "print(np.sum(exp_xM1))"
      ],
      "execution_count": null,
      "outputs": [
        {
          "output_type": "stream",
          "name": "stdout",
          "text": [
            "[-0.1 -1.3  0.9  1.2  0.6 -0.6 -1.4  2.   0.2 -0.5  1.2  0.5  0.7 -0.2]\n",
            "[0.9 0.3 2.5 3.3 1.8 0.5 0.2 7.4 1.2 0.6 3.3 1.6 2.  0.8]\n",
            "26.4\n"
          ]
        }
      ]
    },
    {
      "cell_type": "code",
      "metadata": {
        "id": "SIo2VA0cFPfG"
      },
      "source": [
        ""
      ],
      "execution_count": null,
      "outputs": []
    },
    {
      "cell_type": "markdown",
      "metadata": {
        "id": "jbn-uSK_ftRW"
      },
      "source": [
        "# Slide \"OBJECTIVE FUNCTION\"\n",
        "\n",
        "### Skip-Gram Model\n",
        "\n",
        "$$P(w_{context} | w_{center}) = P(w_y|w_x) := \\frac{\\exp(x\\cdot y')}{\\sum_{v=1}^{|V|}\\exp(x\\cdot y'_v)}\n",
        "$$\n",
        "\n",
        "$$\n",
        "U(W_0, W_1)  := \\frac{1}{T} \\sum_{t=1}^T \\sum_{-c\\le j \\le c, j\\ne 0} \\log P(y_{t+j}|x_t) \n",
        "$$\n",
        "\n",
        "\n",
        "Алгоритм Skip-Gram пытается максимизировать целевую функцию $U(W_0, W_1)$, которая зависит от векторного вложения наших слов $w_1, w_2, w_3, \\dots , w_T$ выбранных из текста.\n",
        "$$\\max_{W_0, W_1} U(W_0, W_1)  $$\n",
        "\n",
        "Given a sequence of training words $w_1, w_2, w_3, \\dots , w_T$ , the objective of the Skip-gram model is to maximize $U(W_0, W_1)$:\n",
        "$$\\max_{W_0, W_1} U(W_0, W_1)  $$\n",
        "\n",
        "---"
      ]
    },
    {
      "cell_type": "markdown",
      "metadata": {
        "id": "eLXkRlUMftRX"
      },
      "source": [
        "# Вектор, скалярное произведение, матричное умножение\n",
        "\n",
        "$\\vec{f}\\cdot\\vec{g} := |\\vec{f}|\\, |\\vec{g}|\\, \\cos\\theta$\n",
        "\n",
        "$\\vec{f}\\cdot\\vec{g} = (f_1,f_2)\\cdot(g_1,g_2) = f_1g_1 + f_2g_2$\n",
        "\n",
        "$\\displaystyle \\vec{x}\\,  \\vec{y} =$"
      ]
    },
    {
      "cell_type": "markdown",
      "metadata": {
        "id": "WCtk9_VDftRX"
      },
      "source": [
        "# Вектор, скалярное произведение, матричное умножение\n",
        "\n",
        "$\\vec{a}\\cdot\\vec{b} \\ := \\ |\\vec{a}|\\, |\\vec{b}|\\, \\cos\\theta$\n",
        "\n",
        "$\\vec{a}\\cdot\\vec{b} \\  =  \\\n",
        "(a_1,a_2)\\cdot(b_1,b_2) \\  =  \\\n",
        "a_1b_1 + a_2b_2$\n",
        "\n",
        "$\n",
        "\\begin{bmatrix}\n",
        "6 & 9\n",
        "\\end{bmatrix}\n",
        "\\begin{bmatrix}\n",
        "-1 \\\\\n",
        "1 \n",
        "\\end{bmatrix} \n",
        "\\ \\ = \\ \\\n",
        "(6,9)\\cdot (-1,1) \n",
        "\\ \\ = \\ \\\n",
        "6\\,(-1) + 9\\,(1) \n",
        "\\ \\ = \\ \\\n",
        "3 \n",
        "$\n",
        "\n",
        "\n",
        "$\\begin{bmatrix}\n",
        "6 & 9\n",
        "\\end{bmatrix}\n",
        "\\begin{bmatrix}\n",
        "-1 & 1 & -2 \\\\\n",
        "1 & 0 & 1\n",
        "\\end{bmatrix} \\ = \\\n",
        "\\begin{bmatrix}\n",
        "3 & 6 & -3\n",
        "\\end{bmatrix} \n",
        "$\n",
        "\n",
        "\n",
        "$\\displaystyle  f(2) \n",
        "\\ + \\ \n",
        "\\epsilon f'(2) \\ > \\ f(2) \\qquad\\qquad\\text{if } f'(2)>0 $\n",
        "\n",
        "$\\displaystyle f(\\vec{a}) \n",
        "\\ + \\ \n",
        "\\epsilon  \\Big( \\nabla f (\\vec{a})\\Big) \n",
        "\\ > \\ \n",
        "f(\\vec{a}) $\n",
        "\n",
        "$\\displaystyle \\nabla f(a_1, a_2) := \n",
        "\\Big( \\frac{\\partial f}{\\partial a_1}\n",
        "\\ , \\\n",
        "\\frac{\\partial f}{\\partial a_2} \\Big). \\qquad$\n",
        "\n",
        "\n",
        "\n",
        "\n",
        "Пример: для  $f(\\vec{a}) = f(a_1, a_2) = \\sin(a_1) + 5 a_2, \\quad$\n",
        "$\\displaystyle \\nabla f(a_1, a_2)= \\Big( \\cos( a_1) \\ , \\ 5 \\Big)$.\n",
        "\n",
        "Если $(a_1,a_2) = (\\pi/2, 1) $, то вектор $\\nabla f(a_1, a_2) = (0,5)$ указывает направление наибольшего возрастания функции $f$ из точки \n",
        "$(\\pi/2, 1, 6)$.\n"
      ]
    },
    {
      "cell_type": "code",
      "metadata": {
        "id": "bt-sPhZjftRX"
      },
      "source": [
        ""
      ],
      "execution_count": null,
      "outputs": []
    },
    {
      "cell_type": "markdown",
      "metadata": {
        "id": "5N_2Y45KftRX"
      },
      "source": [
        "\n",
        "\n",
        "\n",
        "# Matrix Multiplication\n",
        "\n",
        "\n",
        "$\\displaystyle \\qquad x\\, W_0 =\n",
        "\\begin{pmatrix}\n",
        "-1 & 1 & 2\n",
        "\\end{pmatrix}\n",
        "\\begin{pmatrix}\n",
        "1 & 2 \\\\\n",
        "3 & 1 \\\\\n",
        "2 & 5\n",
        "\\end{pmatrix}\n",
        "=\n",
        "\\begin{pmatrix}\n",
        "6 & 9\n",
        "\\end{pmatrix}\n",
        "$\n",
        "\n",
        "$\\displaystyle y' = x\\, W_0 \\, W_1 =\n",
        "\\begin{pmatrix}\n",
        "6 & 9\n",
        "\\end{pmatrix}\n",
        "\\begin{pmatrix}\n",
        "-1 & 1 & -2 \\\\\n",
        "1 & 0 & 1\n",
        "\\end{pmatrix} =\n",
        "\\begin{pmatrix}\n",
        "3 & 6 & -3\n",
        "\\end{pmatrix} \n",
        "$\n",
        "\n",
        "# Dot Product \n",
        "\n",
        "$(a,b) \\cdot (n,k) = an + bk$\n",
        "\n",
        "$(3, 5) \\cdot (-2,1) = 3(-2) + 5(1) = -6+5 = -1$\n",
        "\n",
        "\n",
        "# Cosine Similarity\n",
        "How similar (close) are vectors $y=(0.9, \\ 2.1, \\ -1.1)$ and \n",
        "$y'=(3, \\ 6, \\ -3) = 3(1, \\ 2, \\ -1)$?\n",
        "\n",
        "Cosine Similarity $(y,y') = \\displaystyle\n",
        "\\cos\\alpha = \\frac{ y\\cdot y' }{ |y| |y'| } = 0.998\n",
        "$\n",
        "\n",
        "\n",
        "Cosine Similarity $((1,0,0), \\ (0,1,0)) \\ = \\cos(\\pi/2) = 0$\n",
        "\n",
        "\n",
        "# Utility Function\n",
        "\n",
        "$$\n",
        "p(y | x) = \\frac{\\exp(x y')}\n",
        "{  \\sum_{v=1}^{|V|} \\exp(x y_v') } =\n",
        "\\frac{1.8}{26.4}\n",
        "$$\n",
        "\n",
        "$$\\displaystyle\n",
        "p(y | x) = \\frac{\\exp( x y')}\n",
        "{  \\sum \\exp(x W_1) } =\n",
        "\\frac{1.8}{26.4}\n",
        "$$\n",
        "\n",
        "\n",
        "\n",
        "Here $y_v$ and $y_v'$ are the input and output vector representations of word $w_v$ for all words in the vocabulary $V$.\n",
        "\n",
        "The utility function that we want to maximize is the average log probability\n",
        "$$\n",
        "\\frac{1}{T} \\sum_{t=1}^T \n",
        "\\sum_{ -c\\le j\\le c, j\\ne 0} \\log p(y_{t+j} | x_t)\n",
        "$$\n",
        "\n",
        "$$\n",
        "U(W_0,W_1) = \n",
        "\\frac{1}{T}\\sum_{t=1}^T \\ln P(y_{t} | x_t)\n",
        "$$\n",
        "\n",
        "\n",
        "\n"
      ]
    },
    {
      "cell_type": "code",
      "metadata": {
        "id": "2u8KteiFJq4m"
      },
      "source": [
        ""
      ],
      "execution_count": null,
      "outputs": []
    },
    {
      "cell_type": "markdown",
      "metadata": {
        "id": "ha7Rsk7DuXxI"
      },
      "source": [
        "# Slide 18\n",
        "\n",
        "\n",
        "$$\\exp(x W_1) = [0.9, 0.3, 2.5, 3.3, 1.8, 0.5, 0.2, 7.4, 1.2, 0.6, 3.3, 1.6, 2.0,  0.8]$$\n",
        "\n",
        "$$\\sum \\exp(x W_1) =  \\sum_{v=1}^{|V|} \\exp(x y_v') = \n",
        "0.9 + 0.3 + \\dots + 0.8 = 26.4$$\n",
        "\n",
        "$$ \\displaystyle  \n",
        "P(w_{center}^{}, w_{context}^{}) =\n",
        "P(w_x , w_y) := \\frac{\\exp( x y' )}\n",
        "{  \\sum \\exp(x W_1) } =\n",
        "\\frac{1.8}{26.4}\n",
        "$$\n",
        "\n",
        "\n",
        "$$\n",
        "U(W_0,W_1) = \n",
        "\\frac{1}{T}\\sum_{t=1}^T \\ln P(w_{x_t} , w_{y_t})\n",
        "$$\n",
        "\n",
        "\n",
        "\n",
        "Given a sequence of training words $w_1, w_2, \\dots w_T $\n",
        "the objective of the Skip-gram model is to maximize the average log probability.\n",
        "\n",
        "$$ \\max_{W_0,W_1} U(W_0,W_1)\n",
        "$$\n",
        "\n",
        "\n",
        "\n",
        "<p>\n",
        "$$ \\ln P(w_x , w_y) =  x y' - \\ln \\sum \\exp(x W_1)\n",
        "$$\n",
        "\n",
        "$$\n",
        "U(W_0,W_1) = \n",
        "\\frac{1}{T}\\sum_{t=1}^T \\ln P(x_t , y_{t})\n",
        "$$"
      ]
    },
    {
      "cell_type": "code",
      "metadata": {
        "id": "J6SaTMNUtdsO"
      },
      "source": [
        ""
      ],
      "execution_count": null,
      "outputs": []
    },
    {
      "cell_type": "markdown",
      "metadata": {
        "id": "i3sxnHwKtgRR"
      },
      "source": [
        "# Slide 19\n",
        "\n",
        "To maximize $f(t)$ we need to move in the direction specified by sign of $f'(t)$ at each point.\n",
        "\n",
        "$f(2+\\epsilon)\\approx f(2)+\\epsilon f'(2)$ .\n",
        "\n",
        "if $f'(2)>0, \\qquad$ then $\\quad f(2.1)\\approx f(2)+0.1 f'(2) \\ > \\ 2$\n",
        "\n",
        "\n",
        "To maximize $U(t_1, t_2)$ we need to use the **gradient vector** at each point.\n",
        "<p>\n",
        "\n",
        "\n",
        "\n",
        "\n"
      ]
    },
    {
      "cell_type": "code",
      "metadata": {
        "id": "ZlP18uVrtiF9"
      },
      "source": [
        ""
      ],
      "execution_count": null,
      "outputs": []
    },
    {
      "cell_type": "markdown",
      "metadata": {
        "id": "U_dpcLgKv2Wg"
      },
      "source": [
        "# Slide 20\n",
        "\n",
        "\n",
        "To maximize $U(t_1, t_2)$ we need to move in the direction specified by the **gradient vector** $\\nabla U(t_1,t_2)$ at each point.\n",
        "\n",
        "If $\\vec{x}=(t_1,t_2)$, $\\vec{g}=\\nabla U(t_1,t_2)$, and $\\epsilon > 0,$ then $U(\\vec{x} + \\epsilon \\vec{g} ) > U(\\vec{x})$\n",
        "\n",
        "$$\\nabla U(t_1,t_2) := \n",
        "(\\frac{\\partial U}{\\partial t_1}, \n",
        " \\frac{\\partial U}{\\partial t_2})\n",
        "$$\n",
        "\n",
        "## Example.\n",
        "\n",
        "Let $\\quad \\displaystyle U(\\vec{x})=\\sin(t_1) + 5t_2, \\quad$ hence\n",
        "$\\quad \\displaystyle \\nabla U(\\vec{x})=(\\cos(t_1),  5)$.\n",
        "\n",
        "Consider \n",
        "$\\displaystyle \\quad \\vec{x}^* = \n",
        "(\\frac{\\pi}{2},1).\\quad $ \n",
        "\n",
        "Then  $\\ U(\\vec{x}^*)=6$, $\\quad \\vec{g}=\\nabla U(\\vec{x}^*)= (0,5),\\ $ and \n",
        "\n",
        "$ U(\\vec{x}^* + 0.1 \\vec{g})\\ > \\ U(\\vec{x}^*)=6 \n",
        "$"
      ]
    },
    {
      "cell_type": "code",
      "metadata": {
        "id": "U5eDjtPcFq1H"
      },
      "source": [
        ""
      ],
      "execution_count": null,
      "outputs": []
    }
  ]
}